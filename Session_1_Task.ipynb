{
  "cells": [
    {
      "cell_type": "markdown",
      "metadata": {
        "id": "view-in-github",
        "colab_type": "text"
      },
      "source": [
        "<a href=\"https://colab.research.google.com/github/ajha6200/ajha6200/blob/main/Session_1_Task.ipynb\" target=\"_parent\"><img src=\"https://colab.research.google.com/assets/colab-badge.svg\" alt=\"Open In Colab\"/></a>"
      ]
    },
    {
      "cell_type": "markdown",
      "metadata": {
        "id": "A05OG15VqOPF"
      },
      "source": [
        "# Task : Session 1"
      ]
    },
    {
      "cell_type": "markdown",
      "metadata": {
        "id": "2doIXf8bqe9_"
      },
      "source": [
        "### Q1 :- Print the given strings as per stated format.\n",
        "\n",
        "**Given strings**:\n",
        "```\n",
        "\"Data\" \"Science\" \"Program\"\n",
        "\"By\" \"Teknowell\" \"EduTech\"\n",
        "```\n",
        "**Output**:\n",
        "```\n",
        "Data-Science-Program-started-By-Teknowell-EduTech\n",
        "```\n",
        "\n",
        "Concept- [Seperator and End]"
      ]
    },
    {
      "cell_type": "code",
      "execution_count": null,
      "metadata": {
        "id": "-em6d3KErDtp",
        "colab": {
          "base_uri": "https://localhost:8080/"
        },
        "outputId": "41e81990-45ed-412f-a838-a9de6abc7de7"
      },
      "outputs": [
        {
          "output_type": "stream",
          "name": "stdout",
          "text": [
            "Data-Science-Program-By-Teknowell-EduTech\n",
            "Data-Science-Program-By-Teknowell-EduTech\n"
          ]
        }
      ],
      "source": [
        "#Seperator\n",
        "print(\"Data\",\"Science\",\"Program\",\"By\",\"Teknowell\",\"EduTech\",sep=\"-\")\n",
        "#End\n",
        "print(\"Data-\" \"Science-\" \"Program\",end=\"-\")\n",
        "print(\"By-\" \"Teknowell-\" \"EduTech\")"
      ]
    },
    {
      "cell_type": "markdown",
      "metadata": {
        "id": "1KUpN7ZTrC3_"
      },
      "source": [
        "### Q2:- Write a program that will convert celsius value to fahrenheit.\n",
        "\n",
        "> $\\Large Celcius = (Fahrenheit - 32)*\\frac{5}{9}$"
      ]
    },
    {
      "cell_type": "code",
      "execution_count": null,
      "metadata": {
        "id": "yxKYhYQiqWfj",
        "colab": {
          "base_uri": "https://localhost:8080/"
        },
        "outputId": "330daf66-fb0d-4596-f0be-d7362811ff03"
      },
      "outputs": [
        {
          "output_type": "stream",
          "name": "stdout",
          "text": [
            "Enter any num:56\n",
            "convert celcius to farenheit 132.8 °\n"
          ]
        }
      ],
      "source": [
        "a=int(input(\"Enter any num:\"))\n",
        "f=(a*9/5)+32\n",
        "print(\"convert celcius to farenheit\",f,\"°\")"
      ]
    },
    {
      "cell_type": "markdown",
      "metadata": {
        "id": "RLrOBBJurLB2"
      },
      "source": [
        "### Q3:- Take 2 numbers as input from the user. Write a program to swap the numbers without using any special python syntax."
      ]
    },
    {
      "cell_type": "code",
      "execution_count": null,
      "metadata": {
        "id": "yPn7if0TrJ4F",
        "colab": {
          "base_uri": "https://localhost:8080/"
        },
        "outputId": "152759ff-f04a-4afc-fe64-ef3868285388"
      },
      "outputs": [
        {
          "output_type": "stream",
          "name": "stdout",
          "text": [
            "Enter the value for a:4\n",
            "Enter the value for b:5\n",
            "Before swapping a= 4 b= 5\n",
            "After swapping a= 5 b= 4\n"
          ]
        }
      ],
      "source": [
        "a=int(input(\"Enter the value for a:\"))\n",
        "b=int(input(\"Enter the value for b:\"))\n",
        "print(\"Before swapping a=\",a,\"b=\",b)\n",
        "temp=a\n",
        "a=b\n",
        "b=temp\n",
        "print(\"After swapping a=\",a,\"b=\",b)"
      ]
    },
    {
      "cell_type": "markdown",
      "metadata": {
        "id": "waLCP1bjr7ML"
      },
      "source": [
        "### Q4:- Write a program to find the euclidean distance between two coordinates.Take both the coordinates from the user as input.\n",
        "\n",
        "> $\\large Distance = \\sqrt{(x_1 - x_2)^2 + (y_1 - y_2)^2}$"
      ]
    },
    {
      "cell_type": "code",
      "execution_count": null,
      "metadata": {
        "id": "Pl1Sv-xnrxnH",
        "colab": {
          "base_uri": "https://localhost:8080/"
        },
        "outputId": "cac41c37-ab92-461e-d97f-9f0a7971d715"
      },
      "outputs": [
        {
          "output_type": "stream",
          "name": "stdout",
          "text": [
            "enter value of x1:2\n",
            "enter value of x2:3\n",
            "enter value of y1:4\n",
            "enter value of y2:5\n",
            "Result of euclidean distance: 1.4142135623730951\n"
          ]
        }
      ],
      "source": [
        "x1=int(input(\"enter value of x1:\"))\n",
        "x2=int(input(\"enter value of x2:\"))\n",
        "y1=int(input(\"enter value of y1:\"))\n",
        "y2=int(input(\"enter value of y2:\"))\n",
        "d=((x1-x2)** 2 +(y1-y2)** 2)** 0.5\n",
        "print(\"Result of euclidean distance:\",d)"
      ]
    },
    {
      "cell_type": "markdown",
      "metadata": {
        "id": "VLrhg-FRsHjR"
      },
      "source": [
        "### Q5:- Write a program to find the simple interest when the value of principle,rate of interest and time period is provided by the user.\n",
        "\n",
        "> $\\Large S.I = P*R*T$ <pre>where S.I = Simple Interest\n",
        "      P = Principle\n",
        "      R = Rate of Interest\n",
        "      T = Time Period"
      ]
    },
    {
      "cell_type": "code",
      "source": [
        "p=int(input(\"Enter any num:\"))\n",
        "r=int(input(\"Enter any num:\"))\n",
        "t=int(input(\"Enter any num:\"))\n",
        "s=p*r*t\n",
        "print(\"Simple Interest:\",s)"
      ],
      "metadata": {
        "colab": {
          "base_uri": "https://localhost:8080/"
        },
        "id": "EddRPwSIFyKU",
        "outputId": "8dbd6c1d-c3f9-460d-c703-0fbc6620b8ff"
      },
      "execution_count": 22,
      "outputs": [
        {
          "output_type": "stream",
          "name": "stdout",
          "text": [
            "Enter any num:5\n",
            "Enter any num:5\n",
            "Enter any num:6\n",
            "Simple Interest: 150\n"
          ]
        }
      ]
    },
    {
      "cell_type": "markdown",
      "metadata": {
        "id": "LMy0BTUktYKa"
      },
      "source": [
        "### Q6:- Write a program that will tell the number of dogs and chicken there are when the user will provide the value of total heads and legs.\n",
        "\n",
        "For example:\n",
        "Input:\n",
        "heads -> 4\n",
        "legs -> 12\n",
        "<br>\n",
        "Output:\n",
        "dogs -> 2\n",
        "chicken -> 2\n",
        "\n",
        "\n",
        "\n"
      ]
    },
    {
      "cell_type": "code",
      "source": [
        "h=4\n",
        "l=12\n",
        "d=2*h-l//2\n",
        "print(\"Dogs:\",d)\n",
        "c=h-d\n",
        "print(\"Chicken:\",c)\n"
      ],
      "metadata": {
        "colab": {
          "base_uri": "https://localhost:8080/"
        },
        "id": "dKRhS7iUFpCu",
        "outputId": "c85679f3-9d6b-41c3-c141-bc96a3a9c08f"
      },
      "execution_count": 23,
      "outputs": [
        {
          "output_type": "stream",
          "name": "stdout",
          "text": [
            "Dogs: 2\n",
            "Chicken: 2\n"
          ]
        }
      ]
    },
    {
      "cell_type": "markdown",
      "metadata": {
        "id": "gJ7C5kZYt4BP"
      },
      "source": [
        "### Q7:- Write a program to find the sum of squares of first n natural numbers where n will be provided by the user."
      ]
    },
    {
      "cell_type": "code",
      "execution_count": 15,
      "metadata": {
        "id": "XSBvJoA4tXaG",
        "colab": {
          "base_uri": "https://localhost:8080/"
        },
        "outputId": "71a6a3eb-ff94-4986-96a0-7907edc6b523"
      },
      "outputs": [
        {
          "output_type": "stream",
          "name": "stdout",
          "text": [
            "Enter any natural num:5\n",
            "Sum of squares of natural num: 55\n"
          ]
        }
      ],
      "source": [
        "n=int(input(\"Enter any natural num:\"))\n",
        "sum=(n * (n + 1) * (2 * n + 1)) // 6\n",
        "print(\"Sum of squares of natural num:\",sum)\n"
      ]
    },
    {
      "cell_type": "markdown",
      "metadata": {
        "id": "FHrMM7g-yG1h"
      },
      "source": [
        "### Q8:- Given the first 2 terms of an Arithmetic Series. Find the nth term of the series. Assume all inputs are provided by the user.\n",
        "\n",
        "> $S_n = a + T_2 +  T_3 +  T_4 + \\dots$ <br><br>\n",
        "$S_n =$ Arithmetic Series <br>\n",
        "$a =$ First Term <br>\n",
        "$T_2 =$ Second \\space Term <br>\n",
        "$d = $ Common Difference <br>\n",
        "$n = $ Number of Terms <br><br>\n",
        "$\\boxed{T_n = nth \\space Term = a + (n - 1)d}$"
      ]
    },
    {
      "cell_type": "code",
      "execution_count": 39,
      "metadata": {
        "id": "_tHsmEHzt2nX",
        "colab": {
          "base_uri": "https://localhost:8080/"
        },
        "outputId": "f1942f9d-9913-4383-9195-57f64f9ebff4"
      },
      "outputs": [
        {
          "output_type": "stream",
          "name": "stdout",
          "text": [
            "First term:3\n",
            "second term:6\n",
            "Common difference: 3\n",
            "Number of term:10\n",
            "nth Term: 30\n"
          ]
        }
      ],
      "source": [
        "t1=int(input(\"First term:\"))\n",
        "t2=int(input(\"second term:\"))\n",
        "d=t2-t1\n",
        "print(\"Common difference:\",d)\n",
        "n=int(input(\"Number of term:\"))\n",
        "nth_term=t1+(n-1)*d\n",
        "print(\"nth Term:\",nth_term)\n"
      ]
    },
    {
      "cell_type": "markdown",
      "metadata": {
        "id": "QgyRX_es1oum"
      },
      "source": [
        "\n",
        "\n",
        "### Q9:- Given two fractions, find the sum of those two fractions.Take the numerator and denominator values of the fractions from the user."
      ]
    },
    {
      "cell_type": "code",
      "source": [
        "num1=int(input(\"Enter first numerator:\"))\n",
        "den1=int(input(\"Enter first denominator:\"))\n",
        "num2=int(input(\"Enter second numerator:\"))\n",
        "den2=int(input(\"Enter second denominator:\"))\n",
        "sum= num1/den1 + num2/den2\n",
        "print(\"Sum of two fraction:\",sum)\n"
      ],
      "metadata": {
        "colab": {
          "base_uri": "https://localhost:8080/"
        },
        "id": "GXFoxM6MOjyJ",
        "outputId": "e30928c6-106c-450c-e6f4-61bc7743877c"
      },
      "execution_count": 45,
      "outputs": [
        {
          "output_type": "stream",
          "name": "stdout",
          "text": [
            "Enter first numerator:3\n",
            "Enter first denominator:4\n",
            "Enter second numerator:3\n",
            "Enter second denominator:4\n",
            "Sum of two fraction: 1.5\n"
          ]
        }
      ]
    },
    {
      "cell_type": "markdown",
      "metadata": {
        "id": "eaql38ln13u7"
      },
      "source": [
        "### Q10:- Given the height, width and breadth of a milk tank, you have to find out how many glasses of milk can be obtained? Assume all the inputs are provided by the user.\n",
        "\n",
        "> Input:<br>\n",
        "Dimensions of the milk tank<br>\n",
        "H = 20cm, L = 20cm, B = 20cm\n",
        "<br><br>\n",
        "Dimensions of the glass<br>\n",
        "h = 3cm, r = 1cm"
      ]
    },
    {
      "cell_type": "code",
      "execution_count": 44,
      "metadata": {
        "id": "FePZqno74eWv",
        "colab": {
          "base_uri": "https://localhost:8080/"
        },
        "outputId": "912efe5c-ab67-47db-9ca5-e65fd0215c7c"
      },
      "outputs": [
        {
          "output_type": "stream",
          "name": "stdout",
          "text": [
            "Volume of tank: 8000\n",
            "Height of glass:3\n",
            "Radius of glass:2\n",
            "Volume of glass: 37.68\n",
            "Number of glass: 212.0\n"
          ]
        }
      ],
      "source": [
        "h= 20\n",
        "l= 20\n",
        "b= 20\n",
        "volume_tank=h*l*b\n",
        "print(\"Volume of tank:\",volume_tank)\n",
        "h_glass=int(input(\"Height of glass:\"))\n",
        "r_glass=int(input(\"Radius of glass:\"))\n",
        "volume_glass=3.14 * r_glass ** 2 * h_glass\n",
        "print(\"Volume of glass:\",volume_glass)\n",
        "num_of_glass=volume_tank // volume_glass\n",
        "print(\"Number of glass:\",num_of_glass)\n"
      ]
    }
  ],
  "metadata": {
    "colab": {
      "provenance": [],
      "include_colab_link": true
    },
    "kernelspec": {
      "display_name": "Python 3 (ipykernel)",
      "language": "python",
      "name": "python3"
    },
    "language_info": {
      "codemirror_mode": {
        "name": "ipython",
        "version": 3
      },
      "file_extension": ".py",
      "mimetype": "text/x-python",
      "name": "python",
      "nbconvert_exporter": "python",
      "pygments_lexer": "ipython3",
      "version": "3.11.3"
    }
  },
  "nbformat": 4,
  "nbformat_minor": 0
}